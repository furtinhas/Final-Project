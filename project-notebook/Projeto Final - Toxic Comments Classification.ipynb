{
 "cells": [
  {
   "cell_type": "markdown",
   "id": "56bc6b34",
   "metadata": {},
   "source": [
    "<h1><center> Projeto Final<center></h1>\n",
    "<h1><center>Toxic Comment Classification Challenge<center></h1>"
   ]
  },
  {
   "cell_type": "markdown",
   "id": "402b46e0",
   "metadata": {},
   "source": [
    "Esse notebook descreve o processo de pré-processamento dos dados, construção, treino e teste de modelos de classificação e comparação dos resultados entre os modelos testados para uma versão adaptada do challenge \"Toxic Comment Classification\", disponível em https://www.kaggle.com/c/jigsaw-toxic-comment-classification-challenge/overview."
   ]
  },
  {
   "cell_type": "markdown",
   "id": "1e3a4972",
   "metadata": {},
   "source": [
    "## Preparando o ambiente do notebook"
   ]
  },
  {
   "cell_type": "code",
   "execution_count": 1,
   "id": "99881186",
   "metadata": {},
   "outputs": [],
   "source": [
    "# manipulação dos dados\n",
    "import numpy as np\n",
    "\n",
    "import pandas as pd\n",
    "\n",
    "import pickle\n",
    "\n",
    "\n",
    "# treino e teste dos modelos utilizados\n",
    "import sklearn\n",
    "\n",
    "from sklearn.metrics import confusion_matrix\n",
    "\n",
    "from sklearn.linear_model import LogisticRegression\n",
    "\n",
    "from sklearn.model_selection import cross_val_score\n",
    "\n",
    "from sklearn.model_selection import KFold\n",
    "\n",
    "from sklearn.feature_extraction.text import CountVectorizer\n",
    "\n",
    "from keras.layers import Dense, Input, LSTM, Embedding, Dropout, Activation\n",
    "\n",
    "from keras.layers import Bidirectional, GlobalMaxPool1D\n",
    "\n",
    "from keras.models import Model\n",
    "\n",
    "from keras import initializers, regularizers, constraints, optimizers, layers\n",
    "\n",
    "from keras.callbacks import LearningRateScheduler\n",
    "\n",
    "import tensorflow as tf\n",
    "\n",
    "# gráficos e visualização dos dados em geral\n",
    "%matplotlib inline\n",
    "import matplotlib as mpl\n",
    "import matplotlib.pyplot as plt\n",
    "mpl.rc('axes', labelsize=14)\n",
    "mpl.rc('xtick', labelsize=12)\n",
    "mpl.rc('ytick', labelsize=12)\n",
    "\n",
    "import seaborn as sns\n",
    "\n",
    "# limpeza dos dados\n",
    "from langdetect import DetectorFactory, detect\n",
    "from langdetect.lang_detect_exception import LangDetectException\n",
    "DetectorFactory.seed = 0\n",
    "\n",
    "import string\n",
    "\n",
    "import re\n",
    "\n",
    "from keras.preprocessing.text import Tokenizer\n",
    "\n",
    "from keras.preprocessing.sequence import pad_sequences\n",
    "\n",
    "from gensim.parsing.preprocessing import remove_stopwords"
   ]
  },
  {
   "cell_type": "markdown",
   "id": "2e8a74db",
   "metadata": {},
   "source": [
    "## Lendo o arquivo e visualizando os dados"
   ]
  },
  {
   "cell_type": "code",
   "execution_count": 2,
   "id": "568593f0",
   "metadata": {},
   "outputs": [
    {
     "data": {
      "text/html": [
       "<div>\n",
       "<style scoped>\n",
       "    .dataframe tbody tr th:only-of-type {\n",
       "        vertical-align: middle;\n",
       "    }\n",
       "\n",
       "    .dataframe tbody tr th {\n",
       "        vertical-align: top;\n",
       "    }\n",
       "\n",
       "    .dataframe thead th {\n",
       "        text-align: right;\n",
       "    }\n",
       "</style>\n",
       "<table border=\"1\" class=\"dataframe\">\n",
       "  <thead>\n",
       "    <tr style=\"text-align: right;\">\n",
       "      <th></th>\n",
       "      <th>id</th>\n",
       "      <th>comment_text</th>\n",
       "      <th>toxic</th>\n",
       "    </tr>\n",
       "  </thead>\n",
       "  <tbody>\n",
       "    <tr>\n",
       "      <th>0</th>\n",
       "      <td>0000997932d777bf</td>\n",
       "      <td>Explanation\\nWhy the edits made under my usern...</td>\n",
       "      <td>0</td>\n",
       "    </tr>\n",
       "    <tr>\n",
       "      <th>1</th>\n",
       "      <td>000103f0d9cfb60f</td>\n",
       "      <td>D'aww! He matches this background colour I'm s...</td>\n",
       "      <td>0</td>\n",
       "    </tr>\n",
       "    <tr>\n",
       "      <th>2</th>\n",
       "      <td>000113f07ec002fd</td>\n",
       "      <td>Hey man, I'm really not trying to edit war. It...</td>\n",
       "      <td>0</td>\n",
       "    </tr>\n",
       "    <tr>\n",
       "      <th>3</th>\n",
       "      <td>0001b41b1c6bb37e</td>\n",
       "      <td>\"\\nMore\\nI can't make any real suggestions on ...</td>\n",
       "      <td>0</td>\n",
       "    </tr>\n",
       "    <tr>\n",
       "      <th>4</th>\n",
       "      <td>0001d958c54c6e35</td>\n",
       "      <td>You, sir, are my hero. Any chance you remember...</td>\n",
       "      <td>0</td>\n",
       "    </tr>\n",
       "  </tbody>\n",
       "</table>\n",
       "</div>"
      ],
      "text/plain": [
       "                 id                                       comment_text  toxic\n",
       "0  0000997932d777bf  Explanation\\nWhy the edits made under my usern...      0\n",
       "1  000103f0d9cfb60f  D'aww! He matches this background colour I'm s...      0\n",
       "2  000113f07ec002fd  Hey man, I'm really not trying to edit war. It...      0\n",
       "3  0001b41b1c6bb37e  \"\\nMore\\nI can't make any real suggestions on ...      0\n",
       "4  0001d958c54c6e35  You, sir, are my hero. Any chance you remember...      0"
      ]
     },
     "execution_count": 2,
     "metadata": {},
     "output_type": "execute_result"
    }
   ],
   "source": [
    "# lê o dataset de treino\n",
    "train = pd.read_csv('data/train.csv')\n",
    "\n",
    "# lê os comentários do dataset de test\n",
    "test_comments = pd.read_csv('data/test.csv')\n",
    "\n",
    "# lê os valores esperados de output do modelo\n",
    "test_labels = pd.read_csv('data/test_labels.csv')\n",
    "\n",
    "# merge os datasets ao longo da coluna id\n",
    "test = test_comments.merge(test_labels, on='id')\n",
    "\n",
    "# exclui as entradas com valor [-1,-1,-1,-1,-1,-1]\n",
    "mask = test[test['toxic'] == -1].index\n",
    "mask\n",
    "test.drop(mask, axis=0, inplace=True)\n",
    "\n",
    "# torna a classificação binária ao invés de categórica\n",
    "train.drop(train[['severe_toxic','obscene','threat','insult','identity_hate']], axis = 1, inplace = True)\n",
    "test.drop(test[['severe_toxic','obscene','threat','insult','identity_hate']], axis = 1, inplace = True)\n",
    "\n",
    "train.head()"
   ]
  },
  {
   "cell_type": "code",
   "execution_count": 3,
   "id": "db7c561d",
   "metadata": {
    "scrolled": false
   },
   "outputs": [
    {
     "data": {
      "text/plain": [
       "<bound method DataFrame.info of                       id                                       comment_text  \\\n",
       "0       0000997932d777bf  Explanation\\nWhy the edits made under my usern...   \n",
       "1       000103f0d9cfb60f  D'aww! He matches this background colour I'm s...   \n",
       "2       000113f07ec002fd  Hey man, I'm really not trying to edit war. It...   \n",
       "3       0001b41b1c6bb37e  \"\\nMore\\nI can't make any real suggestions on ...   \n",
       "4       0001d958c54c6e35  You, sir, are my hero. Any chance you remember...   \n",
       "...                  ...                                                ...   \n",
       "159566  ffe987279560d7ff  \":::::And for the second time of asking, when ...   \n",
       "159567  ffea4adeee384e90  You should be ashamed of yourself \\n\\nThat is ...   \n",
       "159568  ffee36eab5c267c9  Spitzer \\n\\nUmm, theres no actual article for ...   \n",
       "159569  fff125370e4aaaf3  And it looks like it was actually you who put ...   \n",
       "159570  fff46fc426af1f9a  \"\\nAnd ... I really don't think you understand...   \n",
       "\n",
       "        toxic  \n",
       "0           0  \n",
       "1           0  \n",
       "2           0  \n",
       "3           0  \n",
       "4           0  \n",
       "...       ...  \n",
       "159566      0  \n",
       "159567      0  \n",
       "159568      0  \n",
       "159569      0  \n",
       "159570      0  \n",
       "\n",
       "[159571 rows x 3 columns]>"
      ]
     },
     "execution_count": 3,
     "metadata": {},
     "output_type": "execute_result"
    }
   ],
   "source": [
    "train.info"
   ]
  },
  {
   "cell_type": "markdown",
   "id": "677f15c5",
   "metadata": {},
   "source": [
    "Analisando a distribuição dos dados, vemos que a classificação é binária e que aproximadamente 90% dos dados pertence a uma das categorias."
   ]
  },
  {
   "cell_type": "code",
   "execution_count": 4,
   "id": "a31cc4d1",
   "metadata": {},
   "outputs": [
    {
     "data": {
      "text/plain": [
       "<seaborn.axisgrid.FacetGrid at 0x197f1722d60>"
      ]
     },
     "execution_count": 4,
     "metadata": {},
     "output_type": "execute_result"
    },
    {
     "data": {
      "image/png": "[encoded data removed]",
      "text/plain": [
       "<Figure size 360x360 with 1 Axes>"
      ]
     },
     "metadata": {
      "needs_background": "light"
     },
     "output_type": "display_data"
    }
   ],
   "source": [
    "sns.displot(data = train, x = \"toxic\", kde=True)"
   ]
  },
  {
   "cell_type": "code",
   "execution_count": 5,
   "id": "d1ecdaef",
   "metadata": {},
   "outputs": [
    {
     "data": {
      "text/html": [
       "<div>\n",
       "<style scoped>\n",
       "    .dataframe tbody tr th:only-of-type {\n",
       "        vertical-align: middle;\n",
       "    }\n",
       "\n",
       "    .dataframe tbody tr th {\n",
       "        vertical-align: top;\n",
       "    }\n",
       "\n",
       "    .dataframe thead th {\n",
       "        text-align: right;\n",
       "    }\n",
       "</style>\n",
       "<table border=\"1\" class=\"dataframe\">\n",
       "  <thead>\n",
       "    <tr style=\"text-align: right;\">\n",
       "      <th></th>\n",
       "      <th>id</th>\n",
       "      <th>comment_text</th>\n",
       "      <th>toxic</th>\n",
       "    </tr>\n",
       "  </thead>\n",
       "  <tbody>\n",
       "    <tr>\n",
       "      <th>5</th>\n",
       "      <td>0001ea8717f6de06</td>\n",
       "      <td>Thank you for understanding. I think very high...</td>\n",
       "      <td>0</td>\n",
       "    </tr>\n",
       "    <tr>\n",
       "      <th>7</th>\n",
       "      <td>000247e83dcc1211</td>\n",
       "      <td>:Dear god this site is horrible.</td>\n",
       "      <td>0</td>\n",
       "    </tr>\n",
       "    <tr>\n",
       "      <th>11</th>\n",
       "      <td>0002f87b16116a7f</td>\n",
       "      <td>\"::: Somebody will invariably try to add Relig...</td>\n",
       "      <td>0</td>\n",
       "    </tr>\n",
       "    <tr>\n",
       "      <th>13</th>\n",
       "      <td>0003e1cccfd5a40a</td>\n",
       "      <td>\" \\n\\n It says it right there that it IS a typ...</td>\n",
       "      <td>0</td>\n",
       "    </tr>\n",
       "    <tr>\n",
       "      <th>14</th>\n",
       "      <td>00059ace3e3e9a53</td>\n",
       "      <td>\" \\n\\n == Before adding a new product to the l...</td>\n",
       "      <td>0</td>\n",
       "    </tr>\n",
       "  </tbody>\n",
       "</table>\n",
       "</div>"
      ],
      "text/plain": [
       "                  id                                       comment_text  toxic\n",
       "5   0001ea8717f6de06  Thank you for understanding. I think very high...      0\n",
       "7   000247e83dcc1211                   :Dear god this site is horrible.      0\n",
       "11  0002f87b16116a7f  \"::: Somebody will invariably try to add Relig...      0\n",
       "13  0003e1cccfd5a40a  \" \\n\\n It says it right there that it IS a typ...      0\n",
       "14  00059ace3e3e9a53  \" \\n\\n == Before adding a new product to the l...      0"
      ]
     },
     "execution_count": 5,
     "metadata": {},
     "output_type": "execute_result"
    }
   ],
   "source": [
    "test.head()"
   ]
  },
  {
   "cell_type": "markdown",
   "id": "71d6339e",
   "metadata": {},
   "source": [
    "## Limpando os dados"
   ]
  },
  {
   "cell_type": "markdown",
   "id": "d12139fb",
   "metadata": {},
   "source": [
    "Antes de começarmos o processo de tokenização do texto e word embedding em si, vamos garantir que os comentários:\n",
    "- não tenham valores nulos\n",
    "- estejam todos em letras minúsculas\n",
    "- não contenham números ou símbolos que atrapalhem o processo de tokenização ou o treinamento do modelo\n",
    "- não contenham texto considerado sem sentido (ex: '\\n')\n",
    "- estejam todos em inglês"
   ]
  },
  {
   "cell_type": "markdown",
   "id": "ea0ac3bf",
   "metadata": {},
   "source": [
    "Verificando se há valores nulos em algum dos datasets"
   ]
  },
  {
   "cell_type": "code",
   "execution_count": 6,
   "id": "8e839b70",
   "metadata": {},
   "outputs": [
    {
     "data": {
      "text/plain": [
       "(id              False\n",
       " comment_text    False\n",
       " toxic           False\n",
       " dtype: bool,\n",
       " id              False\n",
       " comment_text    False\n",
       " toxic           False\n",
       " dtype: bool)"
      ]
     },
     "execution_count": 6,
     "metadata": {},
     "output_type": "execute_result"
    }
   ],
   "source": [
    "train.isnull().any(),test.isnull().any()"
   ]
  },
  {
   "cell_type": "markdown",
   "id": "eb4af0a9",
   "metadata": {},
   "source": [
    "Como não há valores nulos nos dados, podemos prosseguir limpando outros atributos nas entradas"
   ]
  },
  {
   "cell_type": "code",
   "execution_count": 7,
   "id": "6b2c0f11",
   "metadata": {},
   "outputs": [
    {
     "data": {
      "text/html": [
       "<div>\n",
       "<style scoped>\n",
       "    .dataframe tbody tr th:only-of-type {\n",
       "        vertical-align: middle;\n",
       "    }\n",
       "\n",
       "    .dataframe tbody tr th {\n",
       "        vertical-align: top;\n",
       "    }\n",
       "\n",
       "    .dataframe thead th {\n",
       "        text-align: right;\n",
       "    }\n",
       "</style>\n",
       "<table border=\"1\" class=\"dataframe\">\n",
       "  <thead>\n",
       "    <tr style=\"text-align: right;\">\n",
       "      <th></th>\n",
       "      <th>id</th>\n",
       "      <th>comment_text</th>\n",
       "      <th>toxic</th>\n",
       "    </tr>\n",
       "  </thead>\n",
       "  <tbody>\n",
       "    <tr>\n",
       "      <th>0</th>\n",
       "      <td>0000997932d777bf</td>\n",
       "      <td>Explanation\\nWhy the edits made under my usern...</td>\n",
       "      <td>0</td>\n",
       "    </tr>\n",
       "    <tr>\n",
       "      <th>1</th>\n",
       "      <td>000103f0d9cfb60f</td>\n",
       "      <td>D'aww! He matches this background colour I'm s...</td>\n",
       "      <td>0</td>\n",
       "    </tr>\n",
       "    <tr>\n",
       "      <th>2</th>\n",
       "      <td>000113f07ec002fd</td>\n",
       "      <td>Hey man, I'm really not trying to edit war. It...</td>\n",
       "      <td>0</td>\n",
       "    </tr>\n",
       "    <tr>\n",
       "      <th>3</th>\n",
       "      <td>0001b41b1c6bb37e</td>\n",
       "      <td>\"\\nMore\\nI can't make any real suggestions on ...</td>\n",
       "      <td>0</td>\n",
       "    </tr>\n",
       "    <tr>\n",
       "      <th>4</th>\n",
       "      <td>0001d958c54c6e35</td>\n",
       "      <td>You, sir, are my hero. Any chance you remember...</td>\n",
       "      <td>0</td>\n",
       "    </tr>\n",
       "    <tr>\n",
       "      <th>...</th>\n",
       "      <td>...</td>\n",
       "      <td>...</td>\n",
       "      <td>...</td>\n",
       "    </tr>\n",
       "    <tr>\n",
       "      <th>159566</th>\n",
       "      <td>ffe987279560d7ff</td>\n",
       "      <td>\":::::And for the second time of asking, when ...</td>\n",
       "      <td>0</td>\n",
       "    </tr>\n",
       "    <tr>\n",
       "      <th>159567</th>\n",
       "      <td>ffea4adeee384e90</td>\n",
       "      <td>You should be ashamed of yourself \\n\\nThat is ...</td>\n",
       "      <td>0</td>\n",
       "    </tr>\n",
       "    <tr>\n",
       "      <th>159568</th>\n",
       "      <td>ffee36eab5c267c9</td>\n",
       "      <td>Spitzer \\n\\nUmm, theres no actual article for ...</td>\n",
       "      <td>0</td>\n",
       "    </tr>\n",
       "    <tr>\n",
       "      <th>159569</th>\n",
       "      <td>fff125370e4aaaf3</td>\n",
       "      <td>And it looks like it was actually you who put ...</td>\n",
       "      <td>0</td>\n",
       "    </tr>\n",
       "    <tr>\n",
       "      <th>159570</th>\n",
       "      <td>fff46fc426af1f9a</td>\n",
       "      <td>\"\\nAnd ... I really don't think you understand...</td>\n",
       "      <td>0</td>\n",
       "    </tr>\n",
       "  </tbody>\n",
       "</table>\n",
       "<p>159571 rows × 3 columns</p>\n",
       "</div>"
      ],
      "text/plain": [
       "                      id                                       comment_text  \\\n",
       "0       0000997932d777bf  Explanation\\nWhy the edits made under my usern...   \n",
       "1       000103f0d9cfb60f  D'aww! He matches this background colour I'm s...   \n",
       "2       000113f07ec002fd  Hey man, I'm really not trying to edit war. It...   \n",
       "3       0001b41b1c6bb37e  \"\\nMore\\nI can't make any real suggestions on ...   \n",
       "4       0001d958c54c6e35  You, sir, are my hero. Any chance you remember...   \n",
       "...                  ...                                                ...   \n",
       "159566  ffe987279560d7ff  \":::::And for the second time of asking, when ...   \n",
       "159567  ffea4adeee384e90  You should be ashamed of yourself \\n\\nThat is ...   \n",
       "159568  ffee36eab5c267c9  Spitzer \\n\\nUmm, theres no actual article for ...   \n",
       "159569  fff125370e4aaaf3  And it looks like it was actually you who put ...   \n",
       "159570  fff46fc426af1f9a  \"\\nAnd ... I really don't think you understand...   \n",
       "\n",
       "        toxic  \n",
       "0           0  \n",
       "1           0  \n",
       "2           0  \n",
       "3           0  \n",
       "4           0  \n",
       "...       ...  \n",
       "159566      0  \n",
       "159567      0  \n",
       "159568      0  \n",
       "159569      0  \n",
       "159570      0  \n",
       "\n",
       "[159571 rows x 3 columns]"
      ]
     },
     "execution_count": 7,
     "metadata": {},
     "output_type": "execute_result"
    }
   ],
   "source": [
    "train"
   ]
  },
  {
   "cell_type": "code",
   "execution_count": 8,
   "id": "70e574ec",
   "metadata": {},
   "outputs": [],
   "source": [
    "def clean_text_1(text):\n",
    "    \n",
    "    #converte o texto para letras minúsculas\n",
    "    text = text.lower()\n",
    "    \n",
    "    # remove sinais de pontuação do texto\n",
    "    text = re.sub('[%s]' % re.escape(string.punctuation), '', text)\n",
    "    \n",
    "    #remove dígitos do texto\n",
    "    text = re.sub('\\d', '', text)\n",
    "    \n",
    "    return text\n",
    "\n",
    "step1 = lambda x: clean_text_1(x)\n",
    "\n",
    "def clean_text_2(text):\n",
    "    \n",
    "    #remove outros sinais de pontuação\n",
    "    text = re.sub('[''\"\"...]', '', text)\n",
    "    \n",
    "    # remove texto sem sentido\n",
    "    text = re.sub('\\n',' ', text)\n",
    "    \n",
    "    return text\n",
    "\n",
    "step2 = lambda x: clean_text_2(x)\n",
    "\n",
    "def language_check(text):\n",
    "    \n",
    "    is_english = True\n",
    "    \n",
    "    try:\n",
    "       \n",
    "    #checa se o texto está em inglês ou não\n",
    "        if detect(text) != \"en\":\n",
    "            is_english = False\n",
    "            \n",
    "    # trata erros como não inglês\n",
    "    except LangDetectException:\n",
    "        is_english = False\n",
    "    if is_english == True:\n",
    "        return text\n",
    "    else:\n",
    "        return np.nan\n",
    "    \n",
    "language = lambda x: language_check(x)\n",
    "\n",
    "stop_words = lambda x: remove_stopwords(x)"
   ]
  },
  {
   "cell_type": "code",
   "execution_count": 9,
   "id": "6aedb2bd",
   "metadata": {},
   "outputs": [
    {
     "data": {
      "text/html": [
       "<div>\n",
       "<style scoped>\n",
       "    .dataframe tbody tr th:only-of-type {\n",
       "        vertical-align: middle;\n",
       "    }\n",
       "\n",
       "    .dataframe tbody tr th {\n",
       "        vertical-align: top;\n",
       "    }\n",
       "\n",
       "    .dataframe thead th {\n",
       "        text-align: right;\n",
       "    }\n",
       "</style>\n",
       "<table border=\"1\" class=\"dataframe\">\n",
       "  <thead>\n",
       "    <tr style=\"text-align: right;\">\n",
       "      <th></th>\n",
       "      <th>id</th>\n",
       "      <th>comment_text</th>\n",
       "      <th>toxic</th>\n",
       "    </tr>\n",
       "  </thead>\n",
       "  <tbody>\n",
       "    <tr>\n",
       "      <th>0</th>\n",
       "      <td>0000997932d777bf</td>\n",
       "      <td>explanation\\nwhy the edits made under my usern...</td>\n",
       "      <td>0</td>\n",
       "    </tr>\n",
       "    <tr>\n",
       "      <th>1</th>\n",
       "      <td>000103f0d9cfb60f</td>\n",
       "      <td>daww he matches this background colour im seem...</td>\n",
       "      <td>0</td>\n",
       "    </tr>\n",
       "    <tr>\n",
       "      <th>2</th>\n",
       "      <td>000113f07ec002fd</td>\n",
       "      <td>hey man im really not trying to edit war its j...</td>\n",
       "      <td>0</td>\n",
       "    </tr>\n",
       "    <tr>\n",
       "      <th>3</th>\n",
       "      <td>0001b41b1c6bb37e</td>\n",
       "      <td>\\nmore\\ni cant make any real suggestions on im...</td>\n",
       "      <td>0</td>\n",
       "    </tr>\n",
       "    <tr>\n",
       "      <th>4</th>\n",
       "      <td>0001d958c54c6e35</td>\n",
       "      <td>you sir are my hero any chance you remember wh...</td>\n",
       "      <td>0</td>\n",
       "    </tr>\n",
       "    <tr>\n",
       "      <th>...</th>\n",
       "      <td>...</td>\n",
       "      <td>...</td>\n",
       "      <td>...</td>\n",
       "    </tr>\n",
       "    <tr>\n",
       "      <th>159566</th>\n",
       "      <td>ffe987279560d7ff</td>\n",
       "      <td>and for the second time of asking when your vi...</td>\n",
       "      <td>0</td>\n",
       "    </tr>\n",
       "    <tr>\n",
       "      <th>159567</th>\n",
       "      <td>ffea4adeee384e90</td>\n",
       "      <td>you should be ashamed of yourself \\n\\nthat is ...</td>\n",
       "      <td>0</td>\n",
       "    </tr>\n",
       "    <tr>\n",
       "      <th>159568</th>\n",
       "      <td>ffee36eab5c267c9</td>\n",
       "      <td>spitzer \\n\\numm theres no actual article for p...</td>\n",
       "      <td>0</td>\n",
       "    </tr>\n",
       "    <tr>\n",
       "      <th>159569</th>\n",
       "      <td>fff125370e4aaaf3</td>\n",
       "      <td>and it looks like it was actually you who put ...</td>\n",
       "      <td>0</td>\n",
       "    </tr>\n",
       "    <tr>\n",
       "      <th>159570</th>\n",
       "      <td>fff46fc426af1f9a</td>\n",
       "      <td>\\nand  i really dont think you understand  i c...</td>\n",
       "      <td>0</td>\n",
       "    </tr>\n",
       "  </tbody>\n",
       "</table>\n",
       "<p>159571 rows × 3 columns</p>\n",
       "</div>"
      ],
      "text/plain": [
       "                      id                                       comment_text  \\\n",
       "0       0000997932d777bf  explanation\\nwhy the edits made under my usern...   \n",
       "1       000103f0d9cfb60f  daww he matches this background colour im seem...   \n",
       "2       000113f07ec002fd  hey man im really not trying to edit war its j...   \n",
       "3       0001b41b1c6bb37e  \\nmore\\ni cant make any real suggestions on im...   \n",
       "4       0001d958c54c6e35  you sir are my hero any chance you remember wh...   \n",
       "...                  ...                                                ...   \n",
       "159566  ffe987279560d7ff  and for the second time of asking when your vi...   \n",
       "159567  ffea4adeee384e90  you should be ashamed of yourself \\n\\nthat is ...   \n",
       "159568  ffee36eab5c267c9  spitzer \\n\\numm theres no actual article for p...   \n",
       "159569  fff125370e4aaaf3  and it looks like it was actually you who put ...   \n",
       "159570  fff46fc426af1f9a  \\nand  i really dont think you understand  i c...   \n",
       "\n",
       "        toxic  \n",
       "0           0  \n",
       "1           0  \n",
       "2           0  \n",
       "3           0  \n",
       "4           0  \n",
       "...       ...  \n",
       "159566      0  \n",
       "159567      0  \n",
       "159568      0  \n",
       "159569      0  \n",
       "159570      0  \n",
       "\n",
       "[159571 rows x 3 columns]"
      ]
     },
     "execution_count": 9,
     "metadata": {},
     "output_type": "execute_result"
    }
   ],
   "source": [
    "train['comment_text'] = train['comment_text'].apply(step1)\n",
    "test['comment_text'] = test['comment_text'].apply(step1)\n",
    "train"
   ]
  },
  {
   "cell_type": "code",
   "execution_count": 10,
   "id": "74a6148b",
   "metadata": {
    "scrolled": false
   },
   "outputs": [
    {
     "data": {
      "text/html": [
       "<div>\n",
       "<style scoped>\n",
       "    .dataframe tbody tr th:only-of-type {\n",
       "        vertical-align: middle;\n",
       "    }\n",
       "\n",
       "    .dataframe tbody tr th {\n",
       "        vertical-align: top;\n",
       "    }\n",
       "\n",
       "    .dataframe thead th {\n",
       "        text-align: right;\n",
       "    }\n",
       "</style>\n",
       "<table border=\"1\" class=\"dataframe\">\n",
       "  <thead>\n",
       "    <tr style=\"text-align: right;\">\n",
       "      <th></th>\n",
       "      <th>id</th>\n",
       "      <th>comment_text</th>\n",
       "      <th>toxic</th>\n",
       "    </tr>\n",
       "  </thead>\n",
       "  <tbody>\n",
       "    <tr>\n",
       "      <th>0</th>\n",
       "      <td>0000997932d777bf</td>\n",
       "      <td>explanation why the edits made under my userna...</td>\n",
       "      <td>0</td>\n",
       "    </tr>\n",
       "    <tr>\n",
       "      <th>1</th>\n",
       "      <td>000103f0d9cfb60f</td>\n",
       "      <td>daww he matches this background colour im seem...</td>\n",
       "      <td>0</td>\n",
       "    </tr>\n",
       "    <tr>\n",
       "      <th>2</th>\n",
       "      <td>000113f07ec002fd</td>\n",
       "      <td>hey man im really not trying to edit war its j...</td>\n",
       "      <td>0</td>\n",
       "    </tr>\n",
       "    <tr>\n",
       "      <th>3</th>\n",
       "      <td>0001b41b1c6bb37e</td>\n",
       "      <td>more i cant make any real suggestions on impr...</td>\n",
       "      <td>0</td>\n",
       "    </tr>\n",
       "    <tr>\n",
       "      <th>4</th>\n",
       "      <td>0001d958c54c6e35</td>\n",
       "      <td>you sir are my hero any chance you remember wh...</td>\n",
       "      <td>0</td>\n",
       "    </tr>\n",
       "    <tr>\n",
       "      <th>...</th>\n",
       "      <td>...</td>\n",
       "      <td>...</td>\n",
       "      <td>...</td>\n",
       "    </tr>\n",
       "    <tr>\n",
       "      <th>159566</th>\n",
       "      <td>ffe987279560d7ff</td>\n",
       "      <td>and for the second time of asking when your vi...</td>\n",
       "      <td>0</td>\n",
       "    </tr>\n",
       "    <tr>\n",
       "      <th>159567</th>\n",
       "      <td>ffea4adeee384e90</td>\n",
       "      <td>you should be ashamed of yourself   that is a ...</td>\n",
       "      <td>0</td>\n",
       "    </tr>\n",
       "    <tr>\n",
       "      <th>159568</th>\n",
       "      <td>ffee36eab5c267c9</td>\n",
       "      <td>spitzer   umm theres no actual article for pro...</td>\n",
       "      <td>0</td>\n",
       "    </tr>\n",
       "    <tr>\n",
       "      <th>159569</th>\n",
       "      <td>fff125370e4aaaf3</td>\n",
       "      <td>and it looks like it was actually you who put ...</td>\n",
       "      <td>0</td>\n",
       "    </tr>\n",
       "    <tr>\n",
       "      <th>159570</th>\n",
       "      <td>fff46fc426af1f9a</td>\n",
       "      <td>and  i really dont think you understand  i ca...</td>\n",
       "      <td>0</td>\n",
       "    </tr>\n",
       "  </tbody>\n",
       "</table>\n",
       "<p>159571 rows × 3 columns</p>\n",
       "</div>"
      ],
      "text/plain": [
       "                      id                                       comment_text  \\\n",
       "0       0000997932d777bf  explanation why the edits made under my userna...   \n",
       "1       000103f0d9cfb60f  daww he matches this background colour im seem...   \n",
       "2       000113f07ec002fd  hey man im really not trying to edit war its j...   \n",
       "3       0001b41b1c6bb37e   more i cant make any real suggestions on impr...   \n",
       "4       0001d958c54c6e35  you sir are my hero any chance you remember wh...   \n",
       "...                  ...                                                ...   \n",
       "159566  ffe987279560d7ff  and for the second time of asking when your vi...   \n",
       "159567  ffea4adeee384e90  you should be ashamed of yourself   that is a ...   \n",
       "159568  ffee36eab5c267c9  spitzer   umm theres no actual article for pro...   \n",
       "159569  fff125370e4aaaf3  and it looks like it was actually you who put ...   \n",
       "159570  fff46fc426af1f9a   and  i really dont think you understand  i ca...   \n",
       "\n",
       "        toxic  \n",
       "0           0  \n",
       "1           0  \n",
       "2           0  \n",
       "3           0  \n",
       "4           0  \n",
       "...       ...  \n",
       "159566      0  \n",
       "159567      0  \n",
       "159568      0  \n",
       "159569      0  \n",
       "159570      0  \n",
       "\n",
       "[159571 rows x 3 columns]"
      ]
     },
     "execution_count": 10,
     "metadata": {},
     "output_type": "execute_result"
    }
   ],
   "source": [
    "train['comment_text'] = train['comment_text'].apply(step2)\n",
    "test['comment_text'] = test['comment_text'].apply(step2)\n",
    "train"
   ]
  },
  {
   "cell_type": "code",
   "execution_count": 11,
   "id": "8d67f554",
   "metadata": {},
   "outputs": [],
   "source": [
    "train['comment_text'] = train['comment_text'].apply(language)\n",
    "test['comment_text'] = test['comment_text'].apply(language)\n",
    "\n",
    "\n",
    "# remove as entradas que estavam em outras línguas\n",
    "train.dropna(inplace=True)\n",
    "test.dropna(inplace=True)"
   ]
  },
  {
   "cell_type": "code",
   "execution_count": 12,
   "id": "5e36b7b7",
   "metadata": {},
   "outputs": [],
   "source": [
    "# remove palavras consideradas stopwords\n",
    "\n",
    "train['comment_text'] = train['comment_text'].apply(remove_stopwords)\n",
    "test['comment_text'] = test['comment_text'].apply(remove_stopwords)"
   ]
  },
  {
   "cell_type": "code",
   "execution_count": 13,
   "id": "c8be013c",
   "metadata": {
    "scrolled": false
   },
   "outputs": [
    {
     "data": {
      "text/html": [
       "<div>\n",
       "<style scoped>\n",
       "    .dataframe tbody tr th:only-of-type {\n",
       "        vertical-align: middle;\n",
       "    }\n",
       "\n",
       "    .dataframe tbody tr th {\n",
       "        vertical-align: top;\n",
       "    }\n",
       "\n",
       "    .dataframe thead th {\n",
       "        text-align: right;\n",
       "    }\n",
       "</style>\n",
       "<table border=\"1\" class=\"dataframe\">\n",
       "  <thead>\n",
       "    <tr style=\"text-align: right;\">\n",
       "      <th></th>\n",
       "      <th>id</th>\n",
       "      <th>comment_text</th>\n",
       "      <th>toxic</th>\n",
       "    </tr>\n",
       "  </thead>\n",
       "  <tbody>\n",
       "    <tr>\n",
       "      <th>5</th>\n",
       "      <td>0001ea8717f6de06</td>\n",
       "      <td>thank understanding think highly revert discus...</td>\n",
       "      <td>0</td>\n",
       "    </tr>\n",
       "    <tr>\n",
       "      <th>7</th>\n",
       "      <td>000247e83dcc1211</td>\n",
       "      <td>dear god site horrible</td>\n",
       "      <td>0</td>\n",
       "    </tr>\n",
       "    <tr>\n",
       "      <th>11</th>\n",
       "      <td>0002f87b16116a7f</td>\n",
       "      <td>somebody invariably try add religion mean way ...</td>\n",
       "      <td>0</td>\n",
       "    </tr>\n",
       "    <tr>\n",
       "      <th>13</th>\n",
       "      <td>0003e1cccfd5a40a</td>\n",
       "      <td>says right type type institution needed case l...</td>\n",
       "      <td>0</td>\n",
       "    </tr>\n",
       "    <tr>\n",
       "      <th>14</th>\n",
       "      <td>00059ace3e3e9a53</td>\n",
       "      <td>adding new product list sure relevant adding n...</td>\n",
       "      <td>0</td>\n",
       "    </tr>\n",
       "    <tr>\n",
       "      <th>...</th>\n",
       "      <td>...</td>\n",
       "      <td>...</td>\n",
       "      <td>...</td>\n",
       "    </tr>\n",
       "    <tr>\n",
       "      <th>153150</th>\n",
       "      <td>fff8f64043129fa2</td>\n",
       "      <td>jerome got this… i’m surprised looked example ...</td>\n",
       "      <td>0</td>\n",
       "    </tr>\n",
       "    <tr>\n",
       "      <th>153151</th>\n",
       "      <td>fff9d70fe0722906</td>\n",
       "      <td>lucky bastard httpwikimediafoundationorgwikipr...</td>\n",
       "      <td>0</td>\n",
       "    </tr>\n",
       "    <tr>\n",
       "      <th>153154</th>\n",
       "      <td>fffa8a11c4378854</td>\n",
       "      <td>shame want speak gays romanians</td>\n",
       "      <td>0</td>\n",
       "    </tr>\n",
       "    <tr>\n",
       "      <th>153155</th>\n",
       "      <td>fffac2a094c8e0e2</td>\n",
       "      <td>mel gibson nazi bitch makes shitty movies butt...</td>\n",
       "      <td>1</td>\n",
       "    </tr>\n",
       "    <tr>\n",
       "      <th>153156</th>\n",
       "      <td>fffb5451268fb5ba</td>\n",
       "      <td>unicorn lair discovery supposedly unicorn lair...</td>\n",
       "      <td>0</td>\n",
       "    </tr>\n",
       "  </tbody>\n",
       "</table>\n",
       "<p>59702 rows × 3 columns</p>\n",
       "</div>"
      ],
      "text/plain": [
       "                      id                                       comment_text  \\\n",
       "5       0001ea8717f6de06  thank understanding think highly revert discus...   \n",
       "7       000247e83dcc1211                             dear god site horrible   \n",
       "11      0002f87b16116a7f  somebody invariably try add religion mean way ...   \n",
       "13      0003e1cccfd5a40a  says right type type institution needed case l...   \n",
       "14      00059ace3e3e9a53  adding new product list sure relevant adding n...   \n",
       "...                  ...                                                ...   \n",
       "153150  fff8f64043129fa2  jerome got this… i’m surprised looked example ...   \n",
       "153151  fff9d70fe0722906  lucky bastard httpwikimediafoundationorgwikipr...   \n",
       "153154  fffa8a11c4378854                    shame want speak gays romanians   \n",
       "153155  fffac2a094c8e0e2  mel gibson nazi bitch makes shitty movies butt...   \n",
       "153156  fffb5451268fb5ba  unicorn lair discovery supposedly unicorn lair...   \n",
       "\n",
       "        toxic  \n",
       "5           0  \n",
       "7           0  \n",
       "11          0  \n",
       "13          0  \n",
       "14          0  \n",
       "...       ...  \n",
       "153150      0  \n",
       "153151      0  \n",
       "153154      0  \n",
       "153155      1  \n",
       "153156      0  \n",
       "\n",
       "[59702 rows x 3 columns]"
      ]
     },
     "execution_count": 13,
     "metadata": {},
     "output_type": "execute_result"
    }
   ],
   "source": [
    "test"
   ]
  },
  {
   "cell_type": "markdown",
   "id": "e0a879b3",
   "metadata": {},
   "source": [
    "Testes com lematização e normalização dos dados não se mostraram significativamente melhores, sendo cortados desse notebook por esse motivo."
   ]
  },
  {
   "cell_type": "markdown",
   "id": "4fb4b68c",
   "metadata": {},
   "source": [
    "## Separando os dados em conjuntos X e y"
   ]
  },
  {
   "cell_type": "markdown",
   "id": "a51c7bbd",
   "metadata": {},
   "source": [
    "Primeiro definimos nosso conjunto de resultados esperados tanto para o conjunto de treino quanto para o de teste:"
   ]
  },
  {
   "cell_type": "code",
   "execution_count": 14,
   "id": "96307806",
   "metadata": {},
   "outputs": [],
   "source": [
    "y_train = train['toxic'].values\n",
    "y_test = test['toxic'].values"
   ]
  },
  {
   "cell_type": "markdown",
   "id": "5f4a2b25",
   "metadata": {},
   "source": [
    "Em seguida, definimos X como os dados a serem classificados, nesse caso os comentários:"
   ]
  },
  {
   "cell_type": "code",
   "execution_count": 15,
   "id": "f7410d2b",
   "metadata": {},
   "outputs": [],
   "source": [
    "list_sentences_train = train[\"comment_text\"]\n",
    "list_sentences_test = test[\"comment_text\"]"
   ]
  },
  {
   "cell_type": "code",
   "execution_count": 16,
   "id": "f0520ece",
   "metadata": {},
   "outputs": [
    {
     "data": {
      "text/plain": [
       "5         thank understanding think highly revert discus...\n",
       "7                                    dear god site horrible\n",
       "11        somebody invariably try add religion mean way ...\n",
       "13        says right type type institution needed case l...\n",
       "14        adding new product list sure relevant adding n...\n",
       "                                ...                        \n",
       "153150    jerome got this… i’m surprised looked example ...\n",
       "153151    lucky bastard httpwikimediafoundationorgwikipr...\n",
       "153154                      shame want speak gays romanians\n",
       "153155    mel gibson nazi bitch makes shitty movies butt...\n",
       "153156    unicorn lair discovery supposedly unicorn lair...\n",
       "Name: comment_text, Length: 59702, dtype: object"
      ]
     },
     "execution_count": 16,
     "metadata": {},
     "output_type": "execute_result"
    }
   ],
   "source": [
    "list_sentences_test"
   ]
  },
  {
   "cell_type": "markdown",
   "id": "71f4ef88",
   "metadata": {},
   "source": [
    "## Criando um corpus\n",
    "Corpus nada mais é do que uma coleção textos, nesse caso, o conteúdo dos comentários que usaremos para treinar o modelo de classificação."
   ]
  },
  {
   "cell_type": "code",
   "execution_count": 17,
   "id": "1e8d48d0",
   "metadata": {},
   "outputs": [],
   "source": [
    "train['comment_text'].to_pickle('corpus1.pkl')"
   ]
  },
  {
   "cell_type": "markdown",
   "id": "9bcb058f",
   "metadata": {},
   "source": [
    "## Tokenização dos dados\n",
    "Nesta etapa vamos:\n",
    "- quebrar o texto dos comentários dos datasets de treino e de teste em palavras ou tokens\n",
    "- criar uma estrutura similar a um dicionário indexando cada palavra nova que encontrarmos\n",
    "- representar os  textos por meio de sequências numéricas em que cada número corresponde ao índice de uma palavra na estrutura que criamos\n",
    "\n",
    "Usando a funções da biblioteca Keras."
   ]
  },
  {
   "cell_type": "code",
   "execution_count": 18,
   "id": "3dd9781a",
   "metadata": {},
   "outputs": [],
   "source": [
    "# Definimos o número máximo de palavras a serem tokenizadas pelo Tokenizer e o instanciamos\n",
    "max_features = 20000\n",
    "tokenizer = Tokenizer(num_words=max_features)\n",
    "\n",
    "# Usando o método fit_on_texts(), atualizamos o vocabulário do Tokenizer\n",
    "tokenizer.fit_on_texts(list(list_sentences_train))\n",
    "\n",
    "# Usamos o Tokenizer com o vocabulário atualizado para converter o texto dos comentários em sequências numéricas\n",
    "list_tokenized_train = tokenizer.texts_to_sequences(list_sentences_train)\n",
    "list_tokenized_test = tokenizer.texts_to_sequences(list_sentences_test)"
   ]
  },
  {
   "cell_type": "markdown",
   "id": "713e1b06",
   "metadata": {},
   "source": [
    "Mesmo após a tokenização dos nossos dados, ainda temos o problema do número de atributos. A fim de usarmos o modelo que temos em mente, precisamos que os comentários tenham o mesmo número de atributos (a fim de conseguirmos computar a dimensão do output da nossa camada dense mais à frente), ou palavras nesse caso. Para resolvermos esse problema, iremos usar uma técnica chamada \"padding\" em que preenchemos os comentários menores com zeros ou cortamos os comentários maiores para se adequarem aos menores."
   ]
  },
  {
   "cell_type": "markdown",
   "id": "4c890fac",
   "metadata": {},
   "source": [
    "Para acharmos o \"número mágico\" que utilizaremos para esse padding, vamos ver a frequência de distribuição dos comprimentos das palavras:"
   ]
  },
  {
   "cell_type": "code",
   "execution_count": 19,
   "id": "28942980",
   "metadata": {},
   "outputs": [],
   "source": [
    "#cria uma lista com a quantidade de palavras em cada comentário\n",
    "len_words = [len(comment) for comment in list_tokenized_train]"
   ]
  },
  {
   "cell_type": "code",
   "execution_count": 20,
   "id": "49f5ef02",
   "metadata": {},
   "outputs": [
    {
     "data": {
      "text/plain": [
       "<seaborn.axisgrid.FacetGrid at 0x197cc577970>"
      ]
     },
     "execution_count": 20,
     "metadata": {},
     "output_type": "execute_result"
    },
    {
     "data": {
      "image/png": "[encoded data removed]",
      "text/plain": [
       "<Figure size 360x360 with 1 Axes>"
      ]
     },
     "metadata": {
      "needs_background": "light"
     },
     "output_type": "display_data"
    }
   ],
   "source": [
    "sns.displot(data=len_words, kind='kde')"
   ]
  },
  {
   "cell_type": "code",
   "execution_count": 21,
   "id": "037a68f6",
   "metadata": {},
   "outputs": [
    {
     "data": {
      "image/png": "[encoded data removed]",
      "text/plain": [
       "<Figure size 432x288 with 1 Axes>"
      ]
     },
     "metadata": {
      "needs_background": "light"
     },
     "output_type": "display_data"
    }
   ],
   "source": [
    "plt.hist(len_words,bins = np.arange(0,410,10))\n",
    "plt.show()"
   ]
  },
  {
   "cell_type": "code",
   "execution_count": 22,
   "id": "42b42694",
   "metadata": {},
   "outputs": [
    {
     "name": "stdout",
     "output_type": "stream",
     "text": [
      "31.0\n",
      "46.0\n",
      "94.0\n"
     ]
    }
   ],
   "source": [
    "# converte a lista em uma série da biblioteca Pandas\n",
    "len_words_series = pd.Series(len_words)\n",
    "# encontra o valor abaixo do qual se encontram 75% dos dados e progride de 10 em 10%\n",
    "print(len_words_series.quantile(0.75))\n",
    "print(len_words_series.quantile(0.85))\n",
    "print(len_words_series.quantile(0.95))"
   ]
  },
  {
   "cell_type": "markdown",
   "id": "a1737bad",
   "metadata": {},
   "source": [
    "Pelo histograma de frequência, percebemos que a maior parte dos dados se concentra na faixa de 0~50 palavras e pelo método .quantile() do pandas, vemos que 75% dos dados estão abaixo de 31 palavras, mas que esse número permanece razoavelmente pequeno até no percentil 95%, sendo assim, usaremos um maxlen de 100 palavras a fim de mantermos a maior quantidade de dados possíveis sem perda de eficiência."
   ]
  },
  {
   "cell_type": "code",
   "execution_count": 23,
   "id": "625b304c",
   "metadata": {},
   "outputs": [],
   "source": [
    "# estabelece o número padrão de atributos\n",
    "maxlen = 100\n",
    "\n",
    "# usa a função pad_sequences da biblioteca Keras para padronizar o número de atributos nas entradas\n",
    "X_train = pad_sequences(list_tokenized_train, maxlen=maxlen)\n",
    "X_test = pad_sequences(list_tokenized_test, maxlen=maxlen)"
   ]
  },
  {
   "cell_type": "markdown",
   "id": "c9deb139",
   "metadata": {},
   "source": [
    "## Construindo o modelo\n",
    "Nesta etapa iremos:\n",
    "- definir as camadas que usaremos no nosso modelo Long Short-Term Memory, fornecido pela API tensorflow\n",
    "- definir as dimensões de cada camada"
   ]
  },
  {
   "cell_type": "markdown",
   "id": "d8e99e93",
   "metadata": {},
   "source": [
    "### Camada de input\n",
    "Primeiramente, temos que definir nossa camada de input que receberá as listas de comentários codificados que criamos acima. Para isso, criamos uma camada de dimensão 100 (número de atributos de cada comentário que definimos acima) e deixamos o segundo parâmetro vazio para que o Keras infira o número de comentários automaticamente."
   ]
  },
  {
   "cell_type": "code",
   "execution_count": 24,
   "id": "f309cba0",
   "metadata": {},
   "outputs": [],
   "source": [
    "# criamos uma camada de input maxlen X (número de amostras)\n",
    "inp = Input(shape =(maxlen, ))"
   ]
  },
  {
   "cell_type": "markdown",
   "id": "8a7315d6",
   "metadata": {},
   "source": [
    "### Camada de embedding\n",
    "Após criarmos uma camada de input, partimos para nossa camada de embedding. Nessa camada, as palavras do nosso vocabulário são projetadas em um espaço vetorial de acordo com sua proximidade de outras palavras nos comentários, de modo que palavras similares sejam projetadas próximas umas das outras. Para isso, temos que definir a dimensão do nosso espaço vetorial (número de coordenadas que cada palavra terá quando projetada) e o número de palavras diferentes que usaremos (que definimos acima na tokenização dos comentários)."
   ]
  },
  {
   "cell_type": "code",
   "execution_count": 25,
   "id": "7449f26b",
   "metadata": {},
   "outputs": [],
   "source": [
    "# definimos a dimensão do nosso espaço vetorial\n",
    "embed_size = 128\n",
    "\n",
    "# criamos a camada de embedding com 20000 palavras diferentes (máx) e espaço vetorial de dimensão 128 \n",
    "# e a conectamos à camada de input\n",
    "x = Embedding(max_features, embed_size)(inp)"
   ]
  },
  {
   "cell_type": "markdown",
   "id": "b0078c7e",
   "metadata": {},
   "source": [
    "Note que a camada de embedding retorna um tensor tridimensional (nro de amostras, 100, 128). composto por uma array de comentários e para cada palavra (100) há uma array de 128 coordenadas no espaço vetorial."
   ]
  },
  {
   "cell_type": "markdown",
   "id": "a272c63d",
   "metadata": {},
   "source": [
    "### Camada LSTM\n",
    "Depois de definirmos nossa camada de embedding, vamos criar nossa camada classificadora usando o modelo longa memória de curto prazo, uma rede neural recursiva que recebe como input um tensor de dimensões (batch_size, timesteps, number_of_inputs) em que a primeira dimensão corresponde ao número de amostras, a segunda ao número de recursões que a rede neural fará e a terceira ao número de atributos associados a cada amostra. \n",
    "\n",
    "Usaremos como input o tensor que geramos na nossa camada de embedding, o que fará com que nossa rede neural tenha como input batch_size = nro de amostras, timesteps = 100, number_of_inputs = 128, ou seja, ela percorrerá a lista de comentários rodando 100 recursões do modelo LSTM usando como input as coordenadas das palavras atualizadas a cada recursão. A fim de melhorar a acurácia do nosso modelo, iremos manter o histórico das 60 últimas iterações para cada amostra definindo o parâmetro return_sequences como True."
   ]
  },
  {
   "cell_type": "code",
   "execution_count": 26,
   "id": "e42e91b0",
   "metadata": {},
   "outputs": [],
   "source": [
    "x = LSTM(60, return_sequences=True,name='lstm_layer')(x)"
   ]
  },
  {
   "cell_type": "markdown",
   "id": "b653beed",
   "metadata": {},
   "source": [
    "### Camada de Pooling\n",
    "Note que nossa camada LSTM nos retorna um tensor tridimensional (nro de amostras, 100, 60). Antes de podermos passar esse tensor às camadas seguintes, precisamos reduzir sua dimensionalidade. Para isso, usaremos uma camada de pooling que reduz nosso tensor tridimensional a duas dimensões pegando o maior valor sobre a dimensão tempo, transformando nosso tensor (batch_size, steps, features) em um tensor (batch_size, features)."
   ]
  },
  {
   "cell_type": "code",
   "execution_count": 27,
   "id": "63f25dd8",
   "metadata": {},
   "outputs": [],
   "source": [
    "x = GlobalMaxPool1D()(x)"
   ]
  },
  {
   "cell_type": "markdown",
   "id": "0f5acddd",
   "metadata": {},
   "source": [
    "### Camada de Dropout\n",
    "Após reduzirmos a dimensionalidade do nosso tensor, passamos ele por uma camada de dropout em que alguns nós são \"desativados\" de maneira aleatória forçando a próxima camada a lidar com dados faltantes e, consequentemente, resultando em uma maior capacidade de generalização pela rede neural. Para esse exemplo, usaremos uma taxa de desativação de 10%, ou seja, aleatoriamente desativaremos 10% dos nós."
   ]
  },
  {
   "cell_type": "code",
   "execution_count": 28,
   "id": "0c6e9113",
   "metadata": {},
   "outputs": [],
   "source": [
    "x = Dropout(0.1)(x)"
   ]
  },
  {
   "cell_type": "markdown",
   "id": "c2f28c78",
   "metadata": {},
   "source": [
    "### Camada densa\n",
    "Após passarmos nosso tensor pela camada de drop out, usamos seu output como input para uma camada densamente conectada e definimos a ativação de seus nós através de uma função ReLu. Definiremos essa camada de forma que ela retorne um output de dimensão 50."
   ]
  },
  {
   "cell_type": "code",
   "execution_count": 29,
   "id": "6f85350e",
   "metadata": {},
   "outputs": [],
   "source": [
    "x = Dense(50, activation='relu')(x)"
   ]
  },
  {
   "cell_type": "markdown",
   "id": "eda1c19e",
   "metadata": {},
   "source": [
    "### Camada de Dropout\n",
    "Passamos o output por outra camada de drop out a fim de uma melhor capacidade de generalização."
   ]
  },
  {
   "cell_type": "code",
   "execution_count": 30,
   "id": "4d0115a2",
   "metadata": {},
   "outputs": [],
   "source": [
    "x = Dropout(0.1)(x)"
   ]
  },
  {
   "cell_type": "markdown",
   "id": "0d12d234",
   "metadata": {},
   "source": [
    "### Camada Sigmoide\n",
    "Por fim, passamos o output da camada de drop out final por uma camada sigmoide que normaliza o output entre 0 e 1, nos dando a classificação binária que desejamos. Definiremos a dimensão do output dessa camada como 1, de forma a obtermos o número que define a classificação do modelo entre tóxico e não tóxico, com 1 sendo definitivamente tóxico e 0 sendo definitivamente não tóxico. "
   ]
  },
  {
   "cell_type": "code",
   "execution_count": 31,
   "id": "8aa45f33",
   "metadata": {},
   "outputs": [],
   "source": [
    "x = Dense(1, activation=\"sigmoid\")(x)"
   ]
  },
  {
   "cell_type": "markdown",
   "id": "77a81a55",
   "metadata": {},
   "source": [
    "## Compilando o modelo\n",
    "Enfim, compilamos o nosso modelo usando nossa camada de input que definimos acima e os outputs como as camadas conectadas restantes. Usaremos a função binary_crossentropy da biblioteca Keras para calcularmos a perda e o otimizador adam, também da biblioteca Keras. Vamos usar uma taxa de aprendizado variável da forma Step Decay a fim de otimizar a performance do nosso modelo."
   ]
  },
  {
   "cell_type": "markdown",
   "id": "a1ed92fe",
   "metadata": {},
   "source": [
    "Definindo a função que nos dá a rotina da taxa de aprendizado e a inicializando:"
   ]
  },
  {
   "cell_type": "code",
   "execution_count": 32,
   "id": "1a7aee62",
   "metadata": {},
   "outputs": [],
   "source": [
    "def step_decay_schedule(initial_lr=1e-3, decay_factor=0.75, step_size=10):\n",
    "    \n",
    "    def schedule(epoch):\n",
    "        return initial_lr * (decay_factor ** np.floor(epoch/step_size))\n",
    "    \n",
    "    return LearningRateScheduler(schedule)\n",
    "\n",
    "lr_sched = step_decay_schedule(initial_lr=1e-4, decay_factor=0.75, step_size=2)"
   ]
  },
  {
   "cell_type": "code",
   "execution_count": 33,
   "id": "91ebc82f",
   "metadata": {},
   "outputs": [],
   "source": [
    "model = Model(inputs=inp, outputs=x)\n",
    "\n",
    "opt = tf.keras.optimizers.Adam()\n",
    "\n",
    "model.compile(loss='binary_crossentropy',\n",
    "                  optimizer= opt,\n",
    "                  metrics=['accuracy'])"
   ]
  },
  {
   "cell_type": "markdown",
   "id": "f4320179",
   "metadata": {},
   "source": [
    "## Testando o modelo\n",
    "Partimos, então, para o teste da performance do nosso modelo usando uma lista de 32 comentários já pré-processados do nosso conjunto de teste como \"batch\" e separaremos 10% dos dados como nosso conjunto de validação. O conjunto de validação funcionará para determinar se nosso modelo está ou não cometendo overfitting para cada batch. O rodaremos por 3 epochs a fim de melhor aproveitar a função de taxa de aprendizado."
   ]
  },
  {
   "cell_type": "code",
   "execution_count": 34,
   "id": "34b0dd5f",
   "metadata": {},
   "outputs": [
    {
     "name": "stdout",
     "output_type": "stream",
     "text": [
      "Epoch 1/3\n",
      "4352/4352 [==============================] - 282s 64ms/step - loss: 0.2146 - accuracy: 0.9278 - val_loss: 0.1208 - val_accuracy: 0.9552 - lr: 1.0000e-04\n",
      "Epoch 2/3\n",
      "4352/4352 [==============================] - 274s 63ms/step - loss: 0.1063 - accuracy: 0.9616 - val_loss: 0.1133 - val_accuracy: 0.9595 - lr: 1.0000e-04\n",
      "Epoch 3/3\n",
      "4352/4352 [==============================] - 269s 62ms/step - loss: 0.0907 - accuracy: 0.9665 - val_loss: 0.1133 - val_accuracy: 0.9602 - lr: 7.5000e-05\n"
     ]
    },
    {
     "data": {
      "text/plain": [
       "<keras.callbacks.History at 0x197d7160f40>"
      ]
     },
     "execution_count": 34,
     "metadata": {},
     "output_type": "execute_result"
    }
   ],
   "source": [
    "batch_size = 32\n",
    "epochs = 3\n",
    "model.fit(X_train,y_train, batch_size=batch_size, epochs=epochs, validation_split=0.1, callbacks=[lr_sched])"
   ]
  },
  {
   "cell_type": "markdown",
   "id": "9400edde",
   "metadata": {},
   "source": [
    "Testando o modelo com o set de teste usando a matriz de confusão como métrica:"
   ]
  },
  {
   "cell_type": "code",
   "execution_count": 35,
   "id": "9c2c2ddd",
   "metadata": {},
   "outputs": [],
   "source": [
    "# geramos as previsões para o conjunto de teste\n",
    "predictions = model.predict(X_test)"
   ]
  },
  {
   "cell_type": "code",
   "execution_count": 36,
   "id": "3fefaef1",
   "metadata": {},
   "outputs": [],
   "source": [
    "# convertemos a array resultante em um DataFrame e plotamos sua distribuição abaixo\n",
    "predictions_df = pd.DataFrame(predictions, columns =['predictions'])"
   ]
  },
  {
   "cell_type": "markdown",
   "id": "41cfd571",
   "metadata": {},
   "source": [
    "Analisando a distribuição das previsões, definiremos um threshold entre 0.8 e 1, de forma a tentar tornar binária essa distribuição contínua classificando o máximo de exemplos corretamente."
   ]
  },
  {
   "cell_type": "code",
   "execution_count": 37,
   "id": "a37b37fe",
   "metadata": {},
   "outputs": [
    {
     "data": {
      "text/plain": [
       "<seaborn.axisgrid.FacetGrid at 0x197d716b3d0>"
      ]
     },
     "execution_count": 37,
     "metadata": {},
     "output_type": "execute_result"
    },
    {
     "data": {
      "image/png": "[encoded data removed]",
      "text/plain": [
       "<Figure size 360x360 with 1 Axes>"
      ]
     },
     "metadata": {
      "needs_background": "light"
     },
     "output_type": "display_data"
    }
   ],
   "source": [
    "sns.displot(predictions_df, x='predictions', kind='kde')"
   ]
  },
  {
   "cell_type": "code",
   "execution_count": 38,
   "id": "4a8503d1",
   "metadata": {
    "scrolled": false
   },
   "outputs": [
    {
     "data": {
      "text/plain": [
       "array([[53092,  1170],\n",
       "       [ 2406,  3034]], dtype=int64)"
      ]
     },
     "execution_count": 38,
     "metadata": {},
     "output_type": "execute_result"
    }
   ],
   "source": [
    "# tornando os valores contínuos binários\n",
    "threshold = 0.857                                 # threshold definido de forma a gerar uma matriz mais concentrada ao longo da\n",
    "predictions_classes = np.zeros_like(predictions)  # diagonal principal\n",
    "predictions_classes[predictions > threshold] = 1\n",
    "\n",
    "matrix = confusion_matrix(y_test, predictions_classes)\n",
    "\n",
    "matrix\n"
   ]
  },
  {
   "cell_type": "markdown",
   "id": "8bbd3819",
   "metadata": {},
   "source": [
    "## Construindo o modelo parte 2\n",
    "Bem, nas etapas acima construimos, treinamos e testamos um modelo LSTM fornecido pela API tensorflow que nos deu uma acurácia de 96,9% aproximadamente nos casos do set de treino e que foi observado pela matriz de confusão como sendo bastante capaz de classificar comentários tóxicos corretamente. No entanto, é interessante que comparemos os resultados do nosso modelo com os de outro modelo de arquitetura diferente, a fim de verificarmos qual tem maior eficiência, menor custo computacional e maior acurácia."
   ]
  },
  {
   "cell_type": "markdown",
   "id": "1b38a929",
   "metadata": {},
   "source": [
    "Para isso, iremos usar os mesmos dados de treino e de teste para construir um modelo de regressão logística e compararemos os resultados obtidos pelos dois modelos para determinarmos qual é o mais vantajoso."
   ]
  },
  {
   "cell_type": "markdown",
   "id": "5dc954e3",
   "metadata": {},
   "source": [
    "### Adaptando o embedding\n",
    "para nosso modelo LSTM, usamos uma camada de embedding, aqui usaremos um embedding bag of words que montaremos utilizando o modelo CountVectorizer da biblioteca sklearn."
   ]
  },
  {
   "cell_type": "code",
   "execution_count": 39,
   "id": "37ab3b9c",
   "metadata": {},
   "outputs": [],
   "source": [
    "cv = CountVectorizer()\n",
    "\n",
    "X_train_logistic = cv.fit_transform(list_sentences_train)\n",
    "X_test_logistic = cv.transform(list_sentences_test)"
   ]
  },
  {
   "cell_type": "markdown",
   "id": "48a9c093",
   "metadata": {},
   "source": [
    "### instanciando o modelo:\n",
    "Escolhido o modelo LogisticRegression da biblioteca sklearn para compararmos com o nosso modelo LSTM, iremos agora instanciá-lo e configurar seus parâmetros."
   ]
  },
  {
   "cell_type": "code",
   "execution_count": 40,
   "id": "29353d54",
   "metadata": {},
   "outputs": [
    {
     "name": "stderr",
     "output_type": "stream",
     "text": [
      "c:\\users\\lucas\\appdata\\local\\programs\\python\\python39\\lib\\site-packages\\sklearn\\linear_model\\_logistic.py:763: ConvergenceWarning: lbfgs failed to converge (status=1):\n",
      "STOP: TOTAL NO. of ITERATIONS REACHED LIMIT.\n",
      "\n",
      "Increase the number of iterations (max_iter) or scale the data as shown in:\n",
      "    https://scikit-learn.org/stable/modules/preprocessing.html\n",
      "Please also refer to the documentation for alternative solver options:\n",
      "    https://scikit-learn.org/stable/modules/linear_model.html#logistic-regression\n",
      "  n_iter_i = _check_optimize_result(\n",
      "c:\\users\\lucas\\appdata\\local\\programs\\python\\python39\\lib\\site-packages\\sklearn\\linear_model\\_logistic.py:763: ConvergenceWarning: lbfgs failed to converge (status=1):\n",
      "STOP: TOTAL NO. of ITERATIONS REACHED LIMIT.\n",
      "\n",
      "Increase the number of iterations (max_iter) or scale the data as shown in:\n",
      "    https://scikit-learn.org/stable/modules/preprocessing.html\n",
      "Please also refer to the documentation for alternative solver options:\n",
      "    https://scikit-learn.org/stable/modules/linear_model.html#logistic-regression\n",
      "  n_iter_i = _check_optimize_result(\n",
      "c:\\users\\lucas\\appdata\\local\\programs\\python\\python39\\lib\\site-packages\\sklearn\\linear_model\\_logistic.py:763: ConvergenceWarning: lbfgs failed to converge (status=1):\n",
      "STOP: TOTAL NO. of ITERATIONS REACHED LIMIT.\n",
      "\n",
      "Increase the number of iterations (max_iter) or scale the data as shown in:\n",
      "    https://scikit-learn.org/stable/modules/preprocessing.html\n",
      "Please also refer to the documentation for alternative solver options:\n",
      "    https://scikit-learn.org/stable/modules/linear_model.html#logistic-regression\n",
      "  n_iter_i = _check_optimize_result(\n",
      "c:\\users\\lucas\\appdata\\local\\programs\\python\\python39\\lib\\site-packages\\sklearn\\linear_model\\_logistic.py:763: ConvergenceWarning: lbfgs failed to converge (status=1):\n",
      "STOP: TOTAL NO. of ITERATIONS REACHED LIMIT.\n",
      "\n",
      "Increase the number of iterations (max_iter) or scale the data as shown in:\n",
      "    https://scikit-learn.org/stable/modules/preprocessing.html\n",
      "Please also refer to the documentation for alternative solver options:\n",
      "    https://scikit-learn.org/stable/modules/linear_model.html#logistic-regression\n",
      "  n_iter_i = _check_optimize_result(\n",
      "c:\\users\\lucas\\appdata\\local\\programs\\python\\python39\\lib\\site-packages\\sklearn\\linear_model\\_logistic.py:763: ConvergenceWarning: lbfgs failed to converge (status=1):\n",
      "STOP: TOTAL NO. of ITERATIONS REACHED LIMIT.\n",
      "\n",
      "Increase the number of iterations (max_iter) or scale the data as shown in:\n",
      "    https://scikit-learn.org/stable/modules/preprocessing.html\n",
      "Please also refer to the documentation for alternative solver options:\n",
      "    https://scikit-learn.org/stable/modules/linear_model.html#logistic-regression\n",
      "  n_iter_i = _check_optimize_result(\n",
      "c:\\users\\lucas\\appdata\\local\\programs\\python\\python39\\lib\\site-packages\\sklearn\\svm\\_base.py:985: ConvergenceWarning: Liblinear failed to converge, increase the number of iterations.\n",
      "  warnings.warn(\"Liblinear failed to converge, increase \"\n",
      "c:\\users\\lucas\\appdata\\local\\programs\\python\\python39\\lib\\site-packages\\sklearn\\svm\\_base.py:985: ConvergenceWarning: Liblinear failed to converge, increase the number of iterations.\n",
      "  warnings.warn(\"Liblinear failed to converge, increase \"\n",
      "c:\\users\\lucas\\appdata\\local\\programs\\python\\python39\\lib\\site-packages\\sklearn\\svm\\_base.py:985: ConvergenceWarning: Liblinear failed to converge, increase the number of iterations.\n",
      "  warnings.warn(\"Liblinear failed to converge, increase \"\n",
      "c:\\users\\lucas\\appdata\\local\\programs\\python\\python39\\lib\\site-packages\\sklearn\\svm\\_base.py:985: ConvergenceWarning: Liblinear failed to converge, increase the number of iterations.\n",
      "  warnings.warn(\"Liblinear failed to converge, increase \"\n",
      "c:\\users\\lucas\\appdata\\local\\programs\\python\\python39\\lib\\site-packages\\sklearn\\svm\\_base.py:985: ConvergenceWarning: Liblinear failed to converge, increase the number of iterations.\n",
      "  warnings.warn(\"Liblinear failed to converge, increase \"\n",
      "c:\\users\\lucas\\appdata\\local\\programs\\python\\python39\\lib\\site-packages\\sklearn\\linear_model\\_sag.py:328: ConvergenceWarning: The max_iter was reached which means the coef_ did not converge\n",
      "  warnings.warn(\"The max_iter was reached which means \"\n",
      "c:\\users\\lucas\\appdata\\local\\programs\\python\\python39\\lib\\site-packages\\sklearn\\linear_model\\_sag.py:328: ConvergenceWarning: The max_iter was reached which means the coef_ did not converge\n",
      "  warnings.warn(\"The max_iter was reached which means \"\n",
      "c:\\users\\lucas\\appdata\\local\\programs\\python\\python39\\lib\\site-packages\\sklearn\\linear_model\\_sag.py:328: ConvergenceWarning: The max_iter was reached which means the coef_ did not converge\n",
      "  warnings.warn(\"The max_iter was reached which means \"\n",
      "c:\\users\\lucas\\appdata\\local\\programs\\python\\python39\\lib\\site-packages\\sklearn\\linear_model\\_sag.py:328: ConvergenceWarning: The max_iter was reached which means the coef_ did not converge\n",
      "  warnings.warn(\"The max_iter was reached which means \"\n",
      "c:\\users\\lucas\\appdata\\local\\programs\\python\\python39\\lib\\site-packages\\sklearn\\linear_model\\_sag.py:328: ConvergenceWarning: The max_iter was reached which means the coef_ did not converge\n",
      "  warnings.warn(\"The max_iter was reached which means \"\n"
     ]
    }
   ],
   "source": [
    "# intanciamos o modelo escolhido com diferentes solvers, definindo o parâmetro class_weight como balanced tendo em vista a\n",
    "# proporção da distribuição dos textos por classe que observamos no início deste notebook\n",
    "model2 = LogisticRegression(class_weight = 'balanced')\n",
    "model3 = LogisticRegression(solver = 'liblinear', class_weight = 'balanced')\n",
    "model4 = LogisticRegression(solver = 'saga', class_weight = 'balanced')\n",
    "\n",
    "# definimos o numero de folds\n",
    "k = 5\n",
    "\n",
    "# usamos o modelo Kfold do sklearn para dividir o conjunto de treino e teste em folds\n",
    "kf = KFold(n_splits=k, random_state=None)\n",
    "\n",
    "\n",
    "# geramos as acurácias através de uma cross-validation\n",
    "result2 = cross_val_score(model2 , X_train_logistic, y_train, cv = kf)\n",
    "result3 = cross_val_score(model3 , X_train_logistic, y_train, cv = kf)\n",
    "result4 = cross_val_score(model4 , X_train_logistic, y_train, cv = kf)"
   ]
  },
  {
   "cell_type": "code",
   "execution_count": 41,
   "id": "613677c2",
   "metadata": {},
   "outputs": [
    {
     "name": "stdout",
     "output_type": "stream",
     "text": [
      "Avg accuracy_2: 0.9488624612202688\n",
      "Avg accuracy_3: 0.947892967942089\n",
      "Avg accuracy_4: 0.8516416752843847\n"
     ]
    }
   ],
   "source": [
    "# comparamos as acurácias médias\n",
    "print(\"Avg accuracy_2: {}\".format(result2.mean()))\n",
    "print(\"Avg accuracy_3: {}\".format(result3.mean()))\n",
    "print(\"Avg accuracy_4: {}\".format(result4.mean()))"
   ]
  },
  {
   "cell_type": "markdown",
   "id": "9e144756",
   "metadata": {},
   "source": [
    "Analisando as acurácias médias, vemos que, como esperado dado o tamanho do dataset, o solver lbfgs teve uma acurácia maior, sendo escolhido como parâmetro a ser usado no modelo que vamos comparar."
   ]
  },
  {
   "cell_type": "code",
   "execution_count": 42,
   "id": "3cb5fadb",
   "metadata": {},
   "outputs": [
    {
     "name": "stderr",
     "output_type": "stream",
     "text": [
      "c:\\users\\lucas\\appdata\\local\\programs\\python\\python39\\lib\\site-packages\\sklearn\\linear_model\\_logistic.py:763: ConvergenceWarning: lbfgs failed to converge (status=1):\n",
      "STOP: TOTAL NO. of ITERATIONS REACHED LIMIT.\n",
      "\n",
      "Increase the number of iterations (max_iter) or scale the data as shown in:\n",
      "    https://scikit-learn.org/stable/modules/preprocessing.html\n",
      "Please also refer to the documentation for alternative solver options:\n",
      "    https://scikit-learn.org/stable/modules/linear_model.html#logistic-regression\n",
      "  n_iter_i = _check_optimize_result(\n"
     ]
    }
   ],
   "source": [
    "optimal_logistic = model2 \n",
    "optimal_logistic.fit(X_train_logistic, y_train)\n",
    "predictions_logistic = optimal_logistic.predict(X_test_logistic)"
   ]
  },
  {
   "cell_type": "code",
   "execution_count": 43,
   "id": "ae23eb7b",
   "metadata": {},
   "outputs": [],
   "source": [
    "predictions_logistic_df = pd.DataFrame(predictions_logistic, columns = ['predictions'])"
   ]
  },
  {
   "cell_type": "code",
   "execution_count": 44,
   "id": "06fc2ab6",
   "metadata": {},
   "outputs": [
    {
     "data": {
      "text/plain": [
       "<seaborn.axisgrid.FacetGrid at 0x197e2b92310>"
      ]
     },
     "execution_count": 44,
     "metadata": {},
     "output_type": "execute_result"
    },
    {
     "data": {
      "image/png": "[encoded data removed]",
      "text/plain": [
       "<Figure size 360x360 with 1 Axes>"
      ]
     },
     "metadata": {
      "needs_background": "light"
     },
     "output_type": "display_data"
    }
   ],
   "source": [
    "sns.displot(predictions_logistic_df, x='predictions', kind='kde')"
   ]
  },
  {
   "cell_type": "code",
   "execution_count": 45,
   "id": "e61582b5",
   "metadata": {},
   "outputs": [
    {
     "data": {
      "text/plain": [
       "array([[48462,  5800],\n",
       "       [  657,  4783]], dtype=int64)"
      ]
     },
     "execution_count": 45,
     "metadata": {},
     "output_type": "execute_result"
    }
   ],
   "source": [
    "# tornando os valores contínuos binários\n",
    "# threshold definido de forma a gerar uma matriz mais concentrada ao longo da diagonal principal\n",
    "\n",
    "threshold = 0.8\n",
    "predictions_logistic_classes = np.zeros_like(predictions_logistic)\n",
    "predictions_logistic_classes[predictions_logistic > threshold] = 1\n",
    "\n",
    "matrix_logistic = confusion_matrix(y_test, predictions_logistic)\n",
    "matrix_logistic"
   ]
  },
  {
   "cell_type": "markdown",
   "id": "7cbb8588",
   "metadata": {},
   "source": [
    "## Comparando os Modelos e Conclusão\n",
    "Por fim, compararemos as métricas dos modelos que construimos e testamos, perceba que o modelo LSTM do Tensorflow tem uma performance melhor, evidenciada pela comparação das matrizes de confusão, das distibuição das previsões e das acurácias. Porém, perceba também que enquanto os tempos de treino do modelo LSTM giraram em torno de 12 minutos para esse dataset, apresentando uso elevado da cpu e memória ram, e os de teste em torno 3 minutos, os tempos de treino do modelo de regressão logística giraram em torno de 2 minutos e os de teste em torno de 1 minuto, consumindo significativamente menos recursos computacionais. Em suma, como é observável um ganho de acurácia de apenas em torno de 2% de um modelo para o outro, é não é justificável o uso do modelo LSTM mais robusto para essa tarefa de classificação binária uma vez que os ganhos de acurácia e a diminuição de falsos positivos e de falsos negativos são marginais se comparados com o aumento do requisito de recursos computacionais."
   ]
  }
 ],
 "metadata": {
  "kernelspec": {
   "display_name": "Python 3 (ipykernel)",
   "language": "python",
   "name": "python3"
  },
  "language_info": {
   "codemirror_mode": {
    "name": "ipython",
    "version": 3
   },
   "file_extension": ".py",
   "mimetype": "text/x-python",
   "name": "python",
   "nbconvert_exporter": "python",
   "pygments_lexer": "ipython3",
   "version": "3.9.6"
  }
 },
 "nbformat": 4,
 "nbformat_minor": 5
}
